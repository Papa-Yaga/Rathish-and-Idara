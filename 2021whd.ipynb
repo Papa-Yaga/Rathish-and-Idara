{
 "cells": [
  {
   "cell_type": "markdown",
   "id": "391a1497-e8ba-46ad-96c1-08383224b320",
   "metadata": {},
   "source": [
    "**Code Feedback:**\n",
    "\n",
    "    * Module installation of wbgapi is missing, code can not be run without edits.\n",
    "    * Values and imported modules could be in one cell and without redundant/repetitives outputs. This stretched the \n",
    "        notebook unnccessarily after every test.\n",
    "    * There is no need for multiple imports of pandas.\n",
    "    * The ReadMe file could have a better format and be a little bit better structured. The copy and paste is too obvious but it helps with \n",
    "        the understanding of the process so just format it in a better way.\n",
    "    * Thanks for the chips\n",
    "    * The multiple us"
   ]
  },
  {
   "cell_type": "code",
   "execution_count": 1,
   "id": "0ba67192-5f59-4ffb-8424-1564f1ee683c",
   "metadata": {},
   "outputs": [
    {
     "ename": "ModuleNotFoundError",
     "evalue": "No module named 'wbgapi'",
     "output_type": "error",
     "traceback": [
      "\u001b[1;31m---------------------------------------------------------------------------\u001b[0m",
      "\u001b[1;31mModuleNotFoundError\u001b[0m                       Traceback (most recent call last)",
      "Cell \u001b[1;32mIn[1], line 2\u001b[0m\n\u001b[0;32m      1\u001b[0m \u001b[38;5;66;03m#Extracting the GDp data using API\u001b[39;00m\n\u001b[1;32m----> 2\u001b[0m \u001b[38;5;28;01mimport\u001b[39;00m \u001b[38;5;21;01mwbgapi\u001b[39;00m \u001b[38;5;28;01mas\u001b[39;00m \u001b[38;5;21;01mwb\u001b[39;00m\n",
      "\u001b[1;31mModuleNotFoundError\u001b[0m: No module named 'wbgapi'"
     ]
    }
   ],
   "source": [
    "#Extracting the GDp data using API\n",
    "import wbgapi as wb"
   ]
  },
  {
   "cell_type": "code",
   "execution_count": 2,
   "id": "b1293a1f-d2bb-407a-82db-da01a073a453",
   "metadata": {},
   "outputs": [],
   "source": [
    "import pandas as pd"
   ]
  },
  {
   "cell_type": "code",
   "execution_count": null,
   "id": "72d9a080-cd7b-4692-93fc-a4b8592d6195",
   "metadata": {},
   "outputs": [],
   "source": [
    "#to see all the available libraries in the data\n",
    "data=wb.series.info()\n",
    "print(data)"
   ]
  },
  {
   "cell_type": "code",
   "execution_count": null,
   "id": "65c80220-91af-45e9-8954-097a7887ae60",
   "metadata": {},
   "outputs": [],
   "source": [
    "data= wb.economy.info()\n",
    "print(data)"
   ]
  },
  {
   "cell_type": "code",
   "execution_count": 6,
   "id": "9cd102a3-41e2-479c-b5f5-bd0e5c8578fd",
   "metadata": {},
   "outputs": [
    {
     "ename": "NameError",
     "evalue": "name 'wb' is not defined",
     "output_type": "error",
     "traceback": [
      "\u001b[1;31m---------------------------------------------------------------------------\u001b[0m",
      "\u001b[1;31mNameError\u001b[0m                                 Traceback (most recent call last)",
      "Cell \u001b[1;32mIn[6], line 2\u001b[0m\n\u001b[0;32m      1\u001b[0m \u001b[38;5;66;03m#to see the available libraries for a search term, use q=\u001b[39;00m\n\u001b[1;32m----> 2\u001b[0m data_list\u001b[38;5;241m=\u001b[39mwb\u001b[38;5;241m.\u001b[39mseries\u001b[38;5;241m.\u001b[39minfo(q\u001b[38;5;241m=\u001b[39m \u001b[38;5;124m\"\u001b[39m\u001b[38;5;124mGDP\u001b[39m\u001b[38;5;124m\"\u001b[39m)\n\u001b[0;32m      3\u001b[0m \u001b[38;5;28mprint\u001b[39m(data_list)\n",
      "\u001b[1;31mNameError\u001b[0m: name 'wb' is not defined"
     ]
    }
   ],
   "source": [
    "#to see the available libraries for a search term, use q=\n",
    "data_list=wb.series.info(q= \"GDP\")\n",
    "print(data_list)"
   ]
  },
  {
   "cell_type": "code",
   "execution_count": null,
   "id": "049ad866-f091-4e2c-b943-aba971dacbde",
   "metadata": {},
   "outputs": [],
   "source": [
    "wb.series.info('NY.GDP.PCAP.CD')"
   ]
  },
  {
   "cell_type": "code",
   "execution_count": 5,
   "id": "fa67d671-74ae-4028-baf3-f638ef4d2728",
   "metadata": {},
   "outputs": [
    {
     "ename": "NameError",
     "evalue": "name 'wb' is not defined",
     "output_type": "error",
     "traceback": [
      "\u001b[1;31m---------------------------------------------------------------------------\u001b[0m",
      "\u001b[1;31mNameError\u001b[0m                                 Traceback (most recent call last)",
      "Cell \u001b[1;32mIn[5], line 1\u001b[0m\n\u001b[1;32m----> 1\u001b[0m GDP_df\u001b[38;5;241m=\u001b[39mwb\u001b[38;5;241m.\u001b[39mdata\u001b[38;5;241m.\u001b[39mDataFrame([\u001b[38;5;124m'\u001b[39m\u001b[38;5;124mNY.GDP.PCAP.CD\u001b[39m\u001b[38;5;124m'\u001b[39m], time\u001b[38;5;241m=\u001b[39m(\u001b[38;5;241m2021\u001b[39m), skipBlanks\u001b[38;5;241m=\u001b[39m\u001b[38;5;28;01mTrue\u001b[39;00m)\n\u001b[0;32m      2\u001b[0m GDP_df\n",
      "\u001b[1;31mNameError\u001b[0m: name 'wb' is not defined"
     ]
    }
   ],
   "source": [
    "GDP_df=wb.data.DataFrame(['NY.GDP.PCAP.CD'], time=(2021), skipBlanks=True)\n",
    "GDP_df"
   ]
  },
  {
   "cell_type": "code",
   "execution_count": null,
   "id": "9db28a9a-ce0d-4f60-b22d-478e8fbd8ba8",
   "metadata": {},
   "outputs": [],
   "source": [
    "#remove the economy axis#\n",
    "GDP_df.rename_axis(index=lambda x: x.replace('economy', ''), inplace=True)\n",
    "GDP_df"
   ]
  },
  {
   "cell_type": "code",
   "execution_count": null,
   "id": "6fb38b7f-c9c3-40a3-b22e-c6abd2cf7b21",
   "metadata": {},
   "outputs": [],
   "source": [
    "#convert to excel\n",
    "GDP_df.to_excel('world_bank_data2021.xlsx')\n",
    "print(\"Excel file saved successfully!\")"
   ]
  },
  {
   "cell_type": "code",
   "execution_count": null,
   "id": "4c0429aa-310b-40fc-93ff-8bbd0cf3cc65",
   "metadata": {},
   "outputs": [],
   "source": [
    "GDP_df = pd.read_excel('world_bank_data2021.xlsx')\n",
    "GDP_df"
   ]
  },
  {
   "cell_type": "code",
   "execution_count": null,
   "id": "0728df29-5643-4fe4-b600-f6702fd4b119",
   "metadata": {},
   "outputs": [],
   "source": [
    "#rename columns\n",
    "GDP_df.columns=['Country name', 'GDP per Capita']\n",
    "GDP_df.columns"
   ]
  },
  {
   "cell_type": "code",
   "execution_count": null,
   "id": "02f8094d-07ae-47f7-93d6-5e64329283fa",
   "metadata": {},
   "outputs": [],
   "source": [
    "GDP_df"
   ]
  },
  {
   "cell_type": "code",
   "execution_count": null,
   "id": "282a5211-1e8c-4864-8c5a-8c433a628920",
   "metadata": {},
   "outputs": [],
   "source": [
    "print(GDP_df.shape)\n"
   ]
  },
  {
   "cell_type": "code",
   "execution_count": null,
   "id": "0b6f2360-ba73-417e-b0bc-6f70bfaa9294",
   "metadata": {},
   "outputs": [],
   "source": [
    "print(GDP_df['Country name'].unique())"
   ]
  },
  {
   "cell_type": "code",
   "execution_count": null,
   "id": "55b1b285-f343-4b9f-83bf-2e2c7a93fe15",
   "metadata": {},
   "outputs": [],
   "source": [
    "#import the world happiness dataframe\n",
    "import pandas as pd\n",
    "\n",
    "url = 'https://raw.githubusercontent.com/Rathishkumaar/Projekt-1/main/WHR2021.csv'\n",
    "\n",
    "whd_df = pd.read_csv(url)\n",
    "#Scores are based on individuals’ own assessments of their lives, in particular their answers to the single-item Cantril ladder life-evaluation question."
   ]
  },
  {
   "cell_type": "markdown",
   "id": "d0f56dc0-c471-4693-adbf-a84ee62e36bb",
   "metadata": {},
   "source": []
  },
  {
   "cell_type": "code",
   "execution_count": null,
   "id": "37784a1d-e350-46b2-9ba4-7fa1036b4bbe",
   "metadata": {},
   "outputs": [],
   "source": [
    "whd_df"
   ]
  },
  {
   "cell_type": "code",
   "execution_count": null,
   "id": "1e5aef03-e826-4823-b137-c8e6f925d268",
   "metadata": {},
   "outputs": [],
   "source": [
    "whd_df.head(50)"
   ]
  },
  {
   "cell_type": "code",
   "execution_count": null,
   "id": "0470e4fb-429f-4d38-962f-dc3b436ff333",
   "metadata": {},
   "outputs": [],
   "source": [
    "whd_df.columns"
   ]
  },
  {
   "cell_type": "code",
   "execution_count": null,
   "id": "b4c36cb1-a6fd-4de4-98f1-61f796392c92",
   "metadata": {},
   "outputs": [],
   "source": [
    "#drop columns we do not need\n",
    "columns_to_drop =['Logged GDP per capita','Standard error of ladder score','Social support','Healthy life expectancy','Freedom to make life choices',\n",
    "                       'Generosity','Perceptions of corruption','Ladder score in Dystopia','Explained by: Log GDP per capita',\n",
    "                       'Explained by: Social support','Explained by: Healthy life expectancy','Explained by: Freedom to make life choices',\n",
    "                      'Explained by: Generosity', 'Explained by: Perceptions of corruption','Dystopia + residual']\n",
    "df_dropped = whd_df.drop(columns=columns_to_drop)"
   ]
  },
  {
   "cell_type": "code",
   "execution_count": null,
   "id": "bffbc29f-9c87-4f40-8df4-1846dffd143a",
   "metadata": {
    "scrolled": true
   },
   "outputs": [],
   "source": [
    "df_dropped"
   ]
  },
  {
   "cell_type": "code",
   "execution_count": null,
   "id": "7f4082e2-2b3d-4eae-95c8-f8c3279d5a0a",
   "metadata": {},
   "outputs": [],
   "source": [
    "#change the names in the country name column to abbrevations to enable merging with the gdp data\n",
    "import pycountry"
   ]
  },
  {
   "cell_type": "code",
   "execution_count": null,
   "id": "2ee9d8f0-2dfe-4728-a8ab-8d34878dd364",
   "metadata": {},
   "outputs": [],
   "source": [
    "country_mapping = {country.name : country.alpha_3 for country in pycountry.countries}\n",
    "\n",
    "# Print the first few entries of the mapping\n",
    "print(country_mapping)"
   ]
  },
  {
   "cell_type": "code",
   "execution_count": null,
   "id": "dbd1b374-2b2e-482f-b597-8da338aa5772",
   "metadata": {},
   "outputs": [],
   "source": [
    "country_dict = {'Aruba': 'ABW', 'Afghanistan': 'AFG', 'Angola': 'AGO', 'Anguilla': 'AIA', 'Åland Islands': 'ALA', 'Albania': 'ALB', 'Andorra': 'AND',\n",
    "                'United Arab Emirates': 'ARE', 'Argentina': 'ARG', 'Armenia': 'ARM', 'American Samoa': 'ASM', 'Antarctica': 'ATA', 'French Southern Territories': 'ATF',\n",
    "                'Antigua and Barbuda': 'ATG', 'Australia': 'AUS', 'Austria': 'AUT', 'Azerbaijan': 'AZE', 'Burundi': 'BDI', 'Belgium': 'BEL', 'Benin': 'BEN',\n",
    "                'Bonaire, Sint Eustatius and Saba': 'BES', 'Burkina Faso': 'BFA', 'Bangladesh': 'BGD', 'Bulgaria': 'BGR', 'Bahrain': 'BHR', 'Bahamas': 'BHS',\n",
    "                'Bosnia and Herzegovina': 'BIH', 'Saint Barthélemy': 'BLM', 'Belarus': 'BLR', 'Belize': 'BLZ', 'Bermuda': 'BMU', 'Bolivia, Plurinational State of': 'BOL',\n",
    "                'Brazil': 'BRA', 'Barbados': 'BRB', 'Brunei Darussalam': 'BRN', 'Bhutan': 'BTN', 'Bouvet Island': 'BVT', 'Botswana': 'BWA', 'Central African Republic': 'CAF',\n",
    "                'Canada': 'CAN', 'Cocos (Keeling) Islands': 'CCK', 'Switzerland': 'CHE', 'Chile': 'CHL', 'China': 'CHN', \"Côte d'Ivoire\": 'CIV', 'Cameroon': 'CMR',\n",
    "                'Congo, The Democratic Republic of the': 'COD', 'Congo': 'COG', 'Cook Islands': 'COK', 'Colombia': 'COL', 'Comoros': 'COM', 'Cabo Verde': 'CPV', \n",
    "                'Costa Rica': 'CRI', 'Cuba': 'CUB', 'Curaçao': 'CUW', 'Christmas Island': 'CXR', 'Cayman Islands': 'CYM', 'Cyprus': 'CYP', 'Czechia': 'CZE', \n",
    "                'Germany': 'DEU', 'Djibouti': 'DJI', 'Dominica': 'DMA', 'Denmark': 'DNK', 'Dominican Republic': 'DOM', 'Algeria': 'DZA', 'Ecuador': 'ECU', \n",
    "                'Egypt': 'EGY', 'Eritrea': 'ERI', 'Western Sahara': 'ESH', 'Spain': 'ESP', 'Estonia': 'EST', 'Ethiopia': 'ETH', 'Finland': 'FIN', 'Fiji': 'FJI', \n",
    "                'Falkland Islands (Malvinas)': 'FLK', 'France': 'FRA', 'Faroe Islands': 'FRO', 'Micronesia, Federated States of': 'FSM', 'Gabon': 'GAB', \n",
    "                'United Kingdom': 'GBR', 'Georgia': 'GEO', 'Guernsey': 'GGY', 'Ghana': 'GHA', 'Gibraltar': 'GIB', 'Guinea': 'GIN', 'Guadeloupe': 'GLP', \n",
    "                'Gambia': 'GMB', 'Guinea-Bissau': 'GNB', 'Equatorial Guinea': 'GNQ', 'Greece': 'GRC', 'Grenada': 'GRD', 'Greenland': 'GRL', 'Guatemala': 'GTM', \n",
    "                'French Guiana': 'GUF', 'Guam': 'GUM', 'Guyana': 'GUY', 'Hong Kong': 'HKG', 'Heard Island and McDonald Islands': 'HMD', 'Honduras': 'HND', \n",
    "                'Croatia': 'HRV', 'Haiti': 'HTI', 'Hungary': 'HUN', 'Indonesia': 'IDN', 'Isle of Man': 'IMN', 'India': 'IND', 'British Indian Ocean Territory': 'IOT', \n",
    "                'Ireland': 'IRL', 'Iran, Islamic Republic of': 'IRN', 'Iraq': 'IRQ', 'Iceland': 'ISL', 'Israel': 'ISR', 'Italy': 'ITA', 'Jamaica': 'JAM', \n",
    "                'Jersey': 'JEY', 'Jordan': 'JOR', 'Japan': 'JPN', 'Kazakhstan': 'KAZ', 'Kenya': 'KEN', 'Kyrgyzstan': 'KGZ', 'Cambodia': 'KHM', 'Kiribati': 'KIR', \n",
    "                'Saint Kitts and Nevis': 'KNA', 'Korea, Republic of': 'KOR', 'Kuwait': 'KWT', \"Lao People's Democratic Republic\": 'LAO', 'Lebanon': 'LBN',\n",
    "                'Czech Republic': 'CZE','Taiwan Province of China': 'TWN','Kosovo': 'KSV','South Korea': 'KOR','Moldova': 'MDA','Bolivia': 'BOL','North Cyprus': 'TRNC',\n",
    "                'Russia': 'RUS','Hong Kong S.A.R. of China': 'HKG','Vietnam': 'VNM','Congo (Brazzaville)': 'DRC','Ivory Coast': 'CIV','Laos': 'LAO',\n",
    "                'Turkey': 'TUR','Venezuela': 'VEN','Iran': 'IRI','Palestinian Territories': 'PSE','Swaziland': 'SWZ','Tanzania': 'TZA','Liberia':'LBR', 'Libya': 'LBY', 'Saint Lucia': 'LCA', 'Liechtenstein': 'LIE', 'Sri Lanka': 'LKA', 'Lesotho': 'LSO', 'Lithuania': 'LTU', 'Luxembourg': 'LUX', 'Latvia': 'LVA', 'Macao': 'MAC', 'Saint Martin (French part)': 'MAF', 'Morocco': 'MAR', 'Monaco': 'MCO', 'Moldova, Republic of': 'MDA', 'Madagascar': 'MDG', 'Maldives': 'MDV', 'Mexico': 'MEX', 'Marshall Islands': 'MHL', 'North Macedonia': 'MKD', 'Mali': 'MLI', 'Malta': 'MLT', 'Myanmar': 'MMR', 'Montenegro': 'MNE', 'Mongolia': 'MNG', 'Northern Mariana Islands': 'MNP', 'Mozambique': 'MOZ', 'Mauritania': 'MRT', 'Montserrat': 'MSR', 'Martinique': 'MTQ', 'Mauritius': 'MUS', 'Malawi': 'MWI', 'Malaysia': 'MYS', 'Mayotte': 'MYT', 'Namibia': 'NAM', 'New Caledonia': 'NCL', 'Niger': 'NER', 'Norfolk Island': 'NFK', 'Nigeria': 'NGA', 'Nicaragua': 'NIC', 'Niue': 'NIU', 'Netherlands': 'NLD', 'Norway': 'NOR', 'Nepal': 'NPL', 'Nauru': 'NRU', 'New Zealand': 'NZL', 'Oman': 'OMN', 'Pakistan': 'PAK', 'Panama': 'PAN', 'Pitcairn': 'PCN', 'Peru': 'PER', 'Philippines': 'PHL', 'Palau': 'PLW', 'Papua New Guinea': 'PNG', 'Poland': 'POL', 'Puerto Rico': 'PRI', \"Korea, Democratic People's Republic of\": 'PRK', 'Portugal': 'PRT', 'Paraguay': 'PRY', 'Palestine, State of': 'PSE', 'French Polynesia': 'PYF', 'Qatar': 'QAT', 'Réunion': 'REU', 'Romania': 'ROU', 'Russian Federation': 'RUS', 'Rwanda': 'RWA', 'Saudi Arabia': 'SAU', 'Sudan': 'SDN', 'Senegal': 'SEN', 'Singapore': 'SGP', 'South Georgia and the South Sandwich Islands': 'SGS', 'Saint Helena, Ascension and Tristan da Cunha': 'SHN', 'Svalbard and Jan Mayen': 'SJM', 'Solomon Islands': 'SLB', 'Sierra Leone': 'SLE', 'El Salvador': 'SLV', 'San Marino': 'SMR', 'Somalia': 'SOM', 'Saint Pierre and Miquelon': 'SPM', 'Serbia': 'SRB', 'South Sudan': 'SSD', 'Sao Tome and Principe': 'STP', 'Suriname': 'SUR', 'Slovakia': 'SVK', 'Slovenia': 'SVN', 'Sweden': 'SWE', 'Eswatini': 'SWZ', 'Sint Maarten (Dutch part)': 'SXM', 'Seychelles': 'SYC', 'Syrian Arab Republic': 'SYR', 'Turks and Caicos Islands': 'TCA', 'Chad': 'TCD', 'Togo': 'TGO', 'Thailand': 'THA', 'Tajikistan': 'TJK', 'Tokelau': 'TKL', 'Turkmenistan': 'TKM', 'Timor-Leste': 'TLS', 'Tonga': 'TON', 'Trinidad and Tobago': 'TTO', 'Tunisia': 'TUN', 'Türkiye': 'TUR', 'Tuvalu': 'TUV', 'Taiwan, Province of China': 'TWN', 'Tanzania, United Republic of': 'TZA', 'Uganda': 'UGA', 'Ukraine': 'UKR', 'United States Minor Outlying Islands': 'UMI', 'Uruguay': 'URY', 'United States': 'USA', 'Uzbekistan': 'UZB', 'Holy See (Vatican City State)': 'VAT', 'Saint Vincent and the Grenadines': 'VCT', 'Venezuela, Bolivarian Republic of': 'VEN', 'Virgin Islands, British': 'VGB', 'Virgin Islands, U.S.': 'VIR', 'Viet Nam': 'VNM', 'Vanuatu': 'VUT', 'Wallis and Futuna': 'WLF', 'Samoa': 'WSM', 'Yemen': 'YEM', 'South Africa': 'ZAF', 'Zambia': 'ZMB', 'Zimbabwe': 'ZWE'}"
   ]
  },
  {
   "cell_type": "code",
   "execution_count": null,
   "id": "d077d69d-6d0c-472c-81c5-551078f845ee",
   "metadata": {},
   "outputs": [],
   "source": [
    "#replace with country_dict\n",
    "df_dropped[\"Country name\"] = df_dropped[\"Country name\"].replace(country_dict)\n",
    "df_dropped"
   ]
  },
  {
   "cell_type": "code",
   "execution_count": null,
   "id": "3f7f993f-ef55-4227-ad8b-f57c39673952",
   "metadata": {},
   "outputs": [],
   "source": [
    "print(df_dropped['Country name'].unique())"
   ]
  },
  {
   "cell_type": "code",
   "execution_count": null,
   "id": "d26f6529-2fa3-43e9-a3b2-0b29dc9e1135",
   "metadata": {},
   "outputs": [],
   "source": [
    "#merge both dataframes on the country name\n",
    "merged_df= pd.merge(GDP_df, df_dropped, on='Country name', how='inner')\n",
    "merged_df"
   ]
  },
  {
   "cell_type": "code",
   "execution_count": null,
   "id": "c2ceed39-56ed-4987-ac49-c26730ed6828",
   "metadata": {},
   "outputs": [],
   "source": [
    "#change the names from abbrevations to full names\n",
    "country_mapping2 = { country.alpha_3 : country.name for country in pycountry.countries}\n",
    "\n",
    "# Print the first few entries of the mapping\n",
    "print(country_mapping2)"
   ]
  },
  {
   "cell_type": "code",
   "execution_count": null,
   "id": "b4393c5d-fc97-4ac4-8ff3-05f9f7e71208",
   "metadata": {},
   "outputs": [],
   "source": [
    "country_dict2={'ABW': 'Aruba', 'AFG': 'Afghanistan', 'AGO': 'Angola', 'AIA': 'Anguilla', 'ALA': 'Åland Islands', 'ALB': 'Albania', 'AND': 'Andorra', 'ARE': 'United Arab Emirates', 'ARG': 'Argentina', 'ARM': 'Armenia', 'ASM': 'American Samoa', 'ATA': 'Antarctica', 'ATF': 'French Southern Territories', 'ATG': 'Antigua and Barbuda', 'AUS': 'Australia', 'AUT': 'Austria', 'AZE': 'Azerbaijan', 'BDI': 'Burundi', 'BEL': 'Belgium', 'BEN': 'Benin', 'BES': 'Bonaire, Sint Eustatius and Saba', 'BFA': 'Burkina Faso', 'BGD': 'Bangladesh', 'BGR': 'Bulgaria', 'BHR': 'Bahrain', 'BHS': 'Bahamas', 'BIH': 'Bosnia and Herzegovina', 'BLM': 'Saint Barthélemy', 'BLR': 'Belarus', 'BLZ': 'Belize', 'BMU': 'Bermuda', 'BOL': 'Bolivia, Plurinational State of', 'BRA': 'Brazil', 'BRB': 'Barbados', 'BRN': 'Brunei Darussalam', 'BTN': 'Bhutan', 'BVT': 'Bouvet Island', 'BWA': 'Botswana', 'CAF': 'Central African Republic', 'CAN': 'Canada', 'CCK': 'Cocos (Keeling) Islands', 'CHE': 'Switzerland', 'CHL': 'Chile', 'CHN': 'China', 'CIV': \"Côte d'Ivoire\", 'CMR': 'Cameroon', 'COD': 'Congo, The Democratic Republic of the', 'COG': 'Congo', 'COK': 'Cook Islands', 'COL': 'Colombia', 'COM': 'Comoros', 'CPV': 'Cabo Verde', 'CRI': 'Costa Rica', 'CUB': 'Cuba', 'CUW': 'Curaçao', 'CXR': 'Christmas Island', 'CYM': 'Cayman Islands', 'CYP': 'Cyprus', 'CZE': 'Czechia', 'DEU': 'Germany', 'DJI': 'Djibouti', 'DMA': 'Dominica', 'DNK': 'Denmark', 'DOM': 'Dominican Republic', 'DZA': 'Algeria', 'ECU': 'Ecuador', 'EGY': 'Egypt', 'ERI': 'Eritrea', 'ESH': 'Western Sahara', 'ESP': 'Spain', 'EST': 'Estonia', 'ETH': 'Ethiopia', 'FIN': 'Finland', 'FJI': 'Fiji', 'FLK': 'Falkland Islands (Malvinas)', 'FRA': 'France', 'FRO': 'Faroe Islands', 'FSM': 'Micronesia, Federated States of', 'GAB': 'Gabon', 'GBR': 'United Kingdom', 'GEO': 'Georgia', 'GGY': 'Guernsey', 'GHA': 'Ghana', 'GIB': 'Gibraltar', 'GIN': 'Guinea', 'GLP': 'Guadeloupe', 'GMB': 'Gambia', 'GNB': 'Guinea-Bissau', 'GNQ': 'Equatorial Guinea', 'GRC': 'Greece', 'GRD': 'Grenada', 'GRL': 'Greenland', 'GTM': 'Guatemala', 'GUF': 'French Guiana', 'GUM': 'Guam', 'GUY': 'Guyana', 'HKG': 'Hong Kong', 'HMD': 'Heard Island and McDonald Islands', 'HND': 'Honduras', 'HRV': 'Croatia', 'HTI': 'Haiti', 'HUN': 'Hungary', 'IDN': 'Indonesia', 'IMN': 'Isle of Man', 'IND': 'India', 'IOT': 'British Indian Ocean Territory', 'IRL': 'Ireland', 'IRN': 'Iran, Islamic Republic of', 'IRQ': 'Iraq', 'ISL': 'Iceland', 'ISR': 'Israel', 'ITA': 'Italy', 'JAM': 'Jamaica', 'JEY': 'Jersey', 'JOR': 'Jordan', 'JPN': 'Japan', 'KAZ': 'Kazakhstan', 'KEN': 'Kenya', 'KGZ': 'Kyrgyzstan', 'KHM': 'Cambodia', 'KIR': 'Kiribati', 'KNA': 'Saint Kitts and Nevis', 'KOR': 'Korea, Republic of', 'KWT': 'Kuwait', 'LAO': \"Lao People's Democratic Republic\", 'LBN': 'Lebanon', 'LBR': 'Liberia', 'LBY': 'Libya', 'LCA': 'Saint Lucia', 'LIE': 'Liechtenstein', 'LKA': 'Sri Lanka', 'LSO': 'Lesotho', 'LTU': 'Lithuania', 'LUX': 'Luxembourg', 'LVA': 'Latvia', 'MAC': 'Macao', 'MAF': 'Saint Martin (French part)', 'MAR': 'Morocco', 'MCO': 'Monaco', 'MDA': 'Moldova, Republic of', 'MDG': 'Madagascar', 'MDV': 'Maldives', 'MEX': 'Mexico', 'MHL': 'Marshall Islands', 'MKD': 'North Macedonia', 'MLI': 'Mali', 'MLT': 'Malta', 'MMR': 'Myanmar', 'MNE': 'Montenegro', 'MNG': 'Mongolia', 'MNP': 'Northern Mariana Islands', 'MOZ': 'Mozambique', 'MRT': 'Mauritania', 'MSR': 'Montserrat', 'MTQ': 'Martinique', 'MUS': 'Mauritius', 'MWI': 'Malawi', 'MYS': 'Malaysia', 'MYT': 'Mayotte', 'NAM': 'Namibia', 'NCL': 'New Caledonia', 'NER': 'Niger', 'NFK': 'Norfolk Island', 'NGA': 'Nigeria', 'NIC': 'Nicaragua', 'NIU': 'Niue', 'NLD': 'Netherlands', 'NOR': 'Norway', 'NPL': 'Nepal', 'NRU': 'Nauru', 'NZL': 'New Zealand', 'OMN': 'Oman', 'PAK': 'Pakistan', 'PAN': 'Panama', 'PCN': 'Pitcairn', 'PER': 'Peru', 'PHL': 'Philippines', 'PLW': 'Palau', 'PNG': 'Papua New Guinea', 'POL': 'Poland', 'PRI': 'Puerto Rico', 'PRK': \"Korea, Democratic People's Republic of\", 'PRT': 'Portugal', 'PRY': 'Paraguay', 'PSE': 'Palestine, State of', 'PYF': 'French Polynesia', 'QAT': 'Qatar', 'REU': 'Réunion', 'ROU': 'Romania', 'RUS': 'Russian Federation', 'RWA': 'Rwanda', 'SAU': 'Saudi Arabia', 'SDN': 'Sudan', 'SEN': 'Senegal', 'SGP': 'Singapore', 'SGS': 'South Georgia and the South Sandwich Islands', 'SHN': 'Saint Helena, Ascension and Tristan da Cunha', 'SJM': 'Svalbard and Jan Mayen', 'SLB': 'Solomon Islands', 'SLE': 'Sierra Leone', 'SLV': 'El Salvador', 'SMR': 'San Marino', 'SOM': 'Somalia', 'SPM': 'Saint Pierre and Miquelon', 'SRB': 'Serbia', 'SSD': 'South Sudan', 'STP': 'Sao Tome and Principe', 'SUR': 'Suriname', 'SVK': 'Slovakia', 'SVN': 'Slovenia', 'SWE': 'Sweden', 'SWZ': 'Eswatini', 'SXM': 'Sint Maarten (Dutch part)', 'SYC': 'Seychelles', 'SYR': 'Syrian Arab Republic', 'TCA': 'Turks and Caicos Islands', 'TCD': 'Chad', 'TGO': 'Togo', 'THA': 'Thailand', 'TJK': 'Tajikistan', 'TKL': 'Tokelau', 'TKM': 'Turkmenistan', 'TLS': 'Timor-Leste', 'TON': 'Tonga', 'TTO': 'Trinidad and Tobago', 'TUN': 'Tunisia', 'TUR': 'Türkiye', 'TUV': 'Tuvalu', 'TWN': 'Taiwan, Province of China', 'TZA': 'Tanzania, United Republic of', 'UGA': 'Uganda', 'UKR': 'Ukraine', 'UMI': 'United States Minor Outlying Islands', 'URY': 'Uruguay', 'USA': 'United States', 'UZB': 'Uzbekistan', 'VAT': 'Holy See (Vatican City State)', 'VCT': 'Saint Vincent and the Grenadines', 'VEN': 'Venezuela, Bolivarian Republic of', 'VGB': 'Virgin Islands, British', 'VIR': 'Virgin Islands, U.S.', 'VNM': 'Viet Nam', 'VUT': 'Vanuatu', 'WLF': 'Wallis and Futuna', 'WSM': 'Samoa', 'YEM': 'Yemen', 'ZAF': 'South Africa', 'ZMB': 'Zambia', 'ZWE': 'Zimbabwe'}"
   ]
  },
  {
   "cell_type": "code",
   "execution_count": null,
   "id": "ae9f65a0-2902-4e75-964c-a768788d0eb6",
   "metadata": {},
   "outputs": [],
   "source": [
    "merged_df[\"Country name\"] = merged_df[\"Country name\"].replace(country_dict2)\n",
    "merged_df"
   ]
  },
  {
   "cell_type": "code",
   "execution_count": null,
   "id": "5cf1aa9a-a65d-4327-804a-3b71917ac3f3",
   "metadata": {},
   "outputs": [],
   "source": [
    "#drop the rest of the colums we consider irrelevant\n",
    "merged_df.drop(columns=['Regional indicator','upperwhisker','lowerwhisker'], inplace=True)"
   ]
  },
  {
   "cell_type": "code",
   "execution_count": null,
   "id": "2913676b-9357-437f-97f1-c092ef65fb47",
   "metadata": {},
   "outputs": [],
   "source": [
    "merged_df.info()"
   ]
  },
  {
   "cell_type": "code",
   "execution_count": null,
   "id": "4e03b747-f227-42ca-a2f1-a742f3141708",
   "metadata": {},
   "outputs": [],
   "source": [
    "#create an additional column shows the logarithm of the gdp for better visualization and analysis\n",
    "import numpy as np\n",
    "\n",
    "# Assuming df is your DataFrame containing the GDP column\n",
    "merged_df['log_GDP'] = np.log10(merged_df['GDP per Capita'])\n",
    "\n",
    "# Now the 'log_GDP' column will contain the logarithm of the 'GDP' column values\n"
   ]
  },
  {
   "cell_type": "code",
   "execution_count": null,
   "id": "7f976455-d0bc-4c01-8e47-fac93a014655",
   "metadata": {},
   "outputs": [],
   "source": [
    "merged_df"
   ]
  },
  {
   "cell_type": "code",
   "execution_count": null,
   "id": "390df034-f54f-487e-8996-04adb12efe1a",
   "metadata": {},
   "outputs": [],
   "source": [
    "# Sort values based on ladder score to ensure the ranking is in line with that of the world bank data\n",
    "sorted_df = merged_df.sort_values(by='Ladder score', ascending=False)\n",
    "sorted_df"
   ]
  },
  {
   "cell_type": "code",
   "execution_count": null,
   "id": "f32764e3-b339-4dd3-852a-01a7b4aa3265",
   "metadata": {
    "scrolled": true
   },
   "outputs": [],
   "source": [
    "#fix the index\n",
    "sorted_df= sorted_df.reset_index(drop=True)\n",
    "sorted_df.tail(10)"
   ]
  },
  {
   "cell_type": "code",
   "execution_count": null,
   "id": "8f4fe2df-d03b-4864-a4f1-0f652a59da3e",
   "metadata": {},
   "outputs": [],
   "source": [
    "sorted_df.to_excel('merged_data 2019,2021.xlsx')\n",
    "print(\"Excel file saved successfully!\")"
   ]
  },
  {
   "cell_type": "code",
   "execution_count": null,
   "id": "c7f867ad-9a7c-4503-89c2-3ef6c9b8021f",
   "metadata": {},
   "outputs": [],
   "source": [
    "sorted_df = pd.read_excel('merged_data 2019,2021.xlsx')\n",
    "sorted_df"
   ]
  },
  {
   "cell_type": "code",
   "execution_count": null,
   "id": "6af8a1e0-4d31-4330-b82d-23777f793cd8",
   "metadata": {
    "scrolled": true
   },
   "outputs": [],
   "source": [
    "#plot scatter plot for the vibes.\n",
    "#shows the correlation better but it is ugly\n",
    "#refer to the presentation slides for the visualization- we used the top five highest ranked countries and the last 5 lowest ranked countries\n",
    "import seaborn as sns\n",
    "\n",
    "# Scatter plot using Seaborn\n",
    "sns.scatterplot(data=sorted_df, x='Country name', y='log_GDP')\n",
    "\n",
    "# Add title and labels\n",
    "plt.xlabel('Country name')\n",
    "plt.ylabel('log_GDP')\n",
    "\n",
    "# Rotate the x-axis labels for better readability\n",
    "plt.xticks(rotation=45, ha='right')\n",
    "\n",
    "# Show plot\n",
    "plt.show()\n"
   ]
  }
 ],
 "metadata": {
  "kernelspec": {
   "display_name": "Python 3 (ipykernel)",
   "language": "python",
   "name": "python3"
  },
  "language_info": {
   "codemirror_mode": {
    "name": "ipython",
    "version": 3
   },
   "file_extension": ".py",
   "mimetype": "text/x-python",
   "name": "python",
   "nbconvert_exporter": "python",
   "pygments_lexer": "ipython3",
   "version": "3.11.7"
  }
 },
 "nbformat": 4,
 "nbformat_minor": 5
}
